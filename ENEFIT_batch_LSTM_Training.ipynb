{
 "cells": [
  {
   "cell_type": "code",
   "execution_count": null,
   "metadata": {},
   "outputs": [],
   "source": [
    "import os\n",
    "import pandas as pd\n",
    "import numpy as np\n",
    "from tensorflow.keras.models import Sequential\n",
    "from tensorflow.keras.layers import LSTM, Dense\n",
    "from tensorflow.keras.metrics import MeanAbsoluteError\n",
    "from sklearn.preprocessing import StandardScaler\n",
    "from sklearn.model_selection import train_test_split\n",
    "\n",
    "def train_lstm_on_files(file_list, directory, input_columns, output_columns, batch_size=32, epochs=1):\n",
    "    # Initialize the LSTM model\n",
    "    model = Sequential([\n",
    "        LSTM(50, activation='relu', input_shape=(1, len(input_columns))),  # Adjust the input shape\n",
    "        Dense(len(output_columns))  # Adjust the output layer based on the number of output columns\n",
    "    ])\n",
    "    model.compile(optimizer='adam', loss='mean_absolute_error')\n",
    "    \n",
    "    # Iterate over each file\n",
    "    for file in file_list:\n",
    "        file_path = os.path.join(directory, file)\n",
    "        \n",
    "        # Load the dataset from the current file\n",
    "        df = pd.read_csv(file_path)\n",
    "        \n",
    "        # Preprocess the data for LSTM\n",
    "        # Scale each input column and combine them\n",
    "        scaler = StandardScaler()\n",
    "        X_scaled = np.array([scaler.fit_transform(df[col].values.reshape(-1, 1)) for col in input_columns])\n",
    "        X_scaled = np.transpose(X_scaled, (1, 0, 2)).reshape(-1, 1, len(input_columns))\n",
    "\n",
    "        # Prepare output data\n",
    "        y = df[output_columns].values\n",
    "\n",
    "        # Split the data into training and validation\n",
    "        X_train, X_val, y_train, y_val = train_test_split(X_scaled, y, test_size=0.2, random_state=42)\n",
    "        \n",
    "        # Train the model on the data from the current file\n",
    "        model.fit(X_train, y_train, validation_data=(X_val, y_val), batch_size=batch_size, epochs=epochs)\n",
    "    \n",
    "    # After training on all files, evaluate the model on the full dataset or a separate test set\n",
    "    # Evaluation code goes here...\n",
    "\n",
    "    # Return the trained model\n",
    "    return model\n",
    "\n",
    "# Example usage:\n",
    "# file_list = ['batch1.csv', 'batch2.csv', ...]  # List of filenames\n",
    "# directory = '/path/to/directory'\n",
    "# input_columns = ['input1', 'input2', ...]  # List of input column names\n",
    "# output_columns = ['output1', 'output2', ...]  # List of output column names\n",
    "# model = train_lstm_on_files(file_list, directory, input_columns, output_columns)\n"
   ]
  }
 ],
 "metadata": {
  "kernelspec": {
   "display_name": "Python 3",
   "language": "python",
   "name": "python3"
  },
  "language_info": {
   "codemirror_mode": {
    "name": "ipython",
    "version": 3
   },
   "file_extension": ".py",
   "mimetype": "text/x-python",
   "name": "python",
   "nbconvert_exporter": "python",
   "pygments_lexer": "ipython3",
   "version": "3.8.2"
  }
 },
 "nbformat": 4,
 "nbformat_minor": 2
}
