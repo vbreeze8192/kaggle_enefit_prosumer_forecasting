{
 "cells": [
  {
   "cell_type": "code",
   "execution_count": null,
   "metadata": {},
   "outputs": [],
   "source": [
    "import pandas as pd\n",
    "import matplotlib.pyplot as plt\n",
    "import joblib\n",
    "from IPython.display import display\n",
    "from sklearn.metrics import mean_absolute_error\n",
    "import numpy as np\n"
   ]
  },
  {
   "cell_type": "code",
   "execution_count": null,
   "metadata": {},
   "outputs": [],
   "source": [
    "save_id='3pui'\n",
    "data_path=r'C:\\Users\\Mipu_10\\Documents\\GitHub\\kaggle_enefit_prosumer_forecasting\\predict-energy-behavior-of-prosumers\\example_test_files'\n",
    "data_path_tr=r'C:\\Users\\Mipu_10\\Documents\\GitHub\\kaggle_enefit_prosumer_forecasting\\predict-energy-behavior-of-prosumers'\n",
    "\n",
    "pred_dict=joblib.load(\"./predictions_{}.pkl\".format(save_id))\n",
    "#joblib.dump(final_dict, \"./test_dataset_{}.pkl\".format(save_id))\n",
    "real_target=pd.read_csv(data_path+r'\\revealed_targets.csv')\n",
    "real_target=real_target.set_index('datetime')\n",
    "real_target.index=pd.to_datetime(real_target.index)\n",
    "puis=real_target.groupby('prediction_unit_id').mean().index\n",
    "\n",
    "\n"
   ]
  },
  {
   "cell_type": "code",
   "execution_count": null,
   "metadata": {},
   "outputs": [],
   "source": [
    "train=pd.read_csv(data_path_tr+r'\\train.csv')\n",
    "train=train.set_index('datetime')\n",
    "train.index=pd.to_datetime(train.index)"
   ]
  },
  {
   "cell_type": "code",
   "execution_count": null,
   "metadata": {},
   "outputs": [],
   "source": [
    "puis_tr=train.groupby('prediction_unit_id').mean().index\n",
    "%matplotlib notebook\n",
    "for is_consumption in [0,1]:\n",
    "    for pui in puis_tr:\n",
    "        df=train[train['prediction_unit_id']==pui]\n",
    "        df=df[df['is_consumption']==is_consumption]\n",
    "        plt.plot(df['target'])\n",
    "        #display(df['target'])\n",
    "        plt.show()"
   ]
  },
  {
   "cell_type": "code",
   "execution_count": null,
   "metadata": {},
   "outputs": [],
   "source": [
    "client=pd.read_csv(data_path_tr+r'\\client.csv')\n",
    "display(client)"
   ]
  },
  {
   "cell_type": "code",
   "execution_count": null,
   "metadata": {},
   "outputs": [],
   "source": [
    "print(puis_tr)"
   ]
  },
  {
   "cell_type": "code",
   "execution_count": null,
   "metadata": {},
   "outputs": [],
   "source": [
    "# %matplotlib inline\n",
    "for is_consumption in [1,0]:\n",
    "    for pui in puis:\n",
    "        print('{}_{}'.format(pui,is_consumption))\n",
    "        pred_df=pred_dict['{}_{}'.format(pui,is_consumption)]\n",
    "        pred_df.index=pd.to_datetime(pred_df.index)\n",
    "        df=real_target[real_target['prediction_unit_id']==pui]\n",
    "        df=df[df['is_consumption']==is_consumption]\n",
    "        score = mean_absolute_error(df['target'].loc[pred_df.index], pred_df['target'])\n",
    "        print(score)\n",
    "        plt.close()\n",
    "\n",
    "        plt.plot(df['target'])\n",
    "        plt.plot(pred_df['target'])\n",
    "        plt.show()"
   ]
  },
  {
   "cell_type": "code",
   "execution_count": null,
   "metadata": {},
   "outputs": [],
   "source": [
    "scores=[]\n",
    "'''\n",
    "is_consumption=0\n",
    "\n",
    "for pui in puis:\n",
    "    print('{}_{}'.format(pui,is_consumption))\n",
    "    pred_df=pred_dict['{}_{}'.format(pui,is_consumption)]\n",
    "    pred_df.index=pd.to_datetime(pred_df.index)\n",
    "    df=real_target[real_target['prediction_unit_id']==pui]\n",
    "    df=df[df['is_consumption']==is_consumption]\n",
    "    score = mean_absolute_error(df['target'].loc[pred_df.index], pred_df['target'])\n",
    "    print(score)\n",
    "    scores=scores+[score]\n",
    "    print(np.mean(scores))\n",
    "'''\n",
    "is_consumption=1\n",
    "for pui in puis:\n",
    "    print('{}_{}'.format(pui,is_consumption))\n",
    "    pred_df=pred_dict['{}_{}'.format(pui,is_consumption)]\n",
    "    pred_df.index=pd.to_datetime(pred_df.index)\n",
    "    df=real_target[real_target['prediction_unit_id']==pui]\n",
    "    df=df[df['is_consumption']==is_consumption]\n",
    "    score = mean_absolute_error(df['target'].loc[pred_df.index], pred_df['target'])\n",
    "    print(score)\n",
    "    scores=scores+[score]\n",
    "    print(np.mean(scores))"
   ]
  },
  {
   "cell_type": "code",
   "execution_count": null,
   "metadata": {},
   "outputs": [],
   "source": [
    "display(pred_df['target'])\n",
    "display(df['target'].loc[pred_df.index])"
   ]
  },
  {
   "cell_type": "code",
   "execution_count": null,
   "metadata": {},
   "outputs": [],
   "source": [
    "df_dict=joblib.load(r\"./train_dataset_complete_{}.pkl\".format(save_id))\n"
   ]
  },
  {
   "cell_type": "code",
   "execution_count": null,
   "metadata": {},
   "outputs": [],
   "source": [
    "for key in df_dict:\n",
    "    train_df=df_dict[key]\n",
    "    for col in train_df.columns:\n",
    "        print(col)\n",
    "        display(train_df[col])\n"
   ]
  },
  {
   "cell_type": "code",
   "execution_count": null,
   "metadata": {},
   "outputs": [],
   "source": [
    "right_weather_forecast=joblib.load(\"./right_weather_forecast.pkl\")\n",
    "right_weather_history=joblib.load(\"./right_weather_history.pkl\") "
   ]
  },
  {
   "cell_type": "code",
   "execution_count": null,
   "metadata": {},
   "outputs": [],
   "source": [
    "display(right_weather_forecast)"
   ]
  },
  {
   "cell_type": "code",
   "execution_count": null,
   "metadata": {},
   "outputs": [],
   "source": [
    "train=pd.read_csv(data_path_tr+r'\\train.csv')\n",
    "client=pd.read_csv(data_path_tr+r'\\client.csv')"
   ]
  },
  {
   "cell_type": "code",
   "execution_count": null,
   "metadata": {},
   "outputs": [],
   "source": [
    "train=pd.read_csv(data_path_tr+r'\\train.csv')\n",
    "client=pd.read_csv(data_path_tr+r'\\client.csv')\n",
    "df=train[train['prediction_unit_id']==pui]\n",
    "print(np.shape(df))\n",
    "df['date']=pd.to_datetime(df['datetime'].values).date\n",
    "print(df['date'])\n",
    "print(client['date'])\n",
    "\n",
    "client['date']=pd.to_datetime(client['date'].values).strftime('%Y-%m-%d %H:%M:%S')\n",
    "df['date']=pd.to_datetime(df['date'].values).strftime('%Y-%m-%d %H:%M:%S')\n",
    "\n",
    "client['date']=client['date'].astype(str)\n",
    "df['date']=df['date'].astype(str)\n",
    "\n",
    "\n",
    "ttt='{}_{}_{}'.format('product_type','county','is_business')\n",
    "client[ttt]=client['product_type']*100+client['county']*10+client['is_business']\n",
    "print(client[ttt].iloc[0])\n",
    "df[ttt]=df['product_type']*100+df['county']*10+df['is_business']\n",
    "print(df[ttt].iloc[0])\n",
    "\n",
    "cols_to_import=['eic_count','installed_capacity','data_block_id','date',ttt]\n",
    "#max_datetime=pd.to_datetime('2021-11-01 00:00:00')\n",
    "#truncated_df=df[df['datetime']<max_datetime]\n",
    "#for pui in puis[0:N]:\n",
    "\n",
    "#dfpui=truncated_df[truncated_df[ttt]==pui]\n",
    "puittt=df[ttt].iloc[0]\n",
    "clientpui=client[client[ttt]==puittt][cols_to_import]\n",
    "print(np.shape(clientpui))\n",
    "\n",
    "#tempmerged=pd.merge(df,clientpui,on=ttt,how='left')\n",
    "tempmerged=pd.merge(df, clientpui, left_on=[ttt,'date'], right_on=[ttt,'date'])#, how='join_type')\n",
    "display(tempmerged)\n",
    "#tempmerged=tempmerged.drop_duplicates(subset=['datetime'])\n"
   ]
  },
  {
   "cell_type": "code",
   "execution_count": null,
   "metadata": {},
   "outputs": [],
   "source": [
    "df.dtypes"
   ]
  },
  {
   "cell_type": "code",
   "execution_count": null,
   "metadata": {},
   "outputs": [],
   "source": [
    "client.dtypes"
   ]
  },
  {
   "cell_type": "code",
   "execution_count": null,
   "metadata": {},
   "outputs": [],
   "source": []
  }
 ],
 "metadata": {
  "kernelspec": {
   "display_name": "Python 3",
   "language": "python",
   "name": "python3"
  },
  "language_info": {
   "codemirror_mode": {
    "name": "ipython",
    "version": 3
   },
   "file_extension": ".py",
   "mimetype": "text/x-python",
   "name": "python",
   "nbconvert_exporter": "python",
   "pygments_lexer": "ipython3",
   "version": "3.8.2"
  }
 },
 "nbformat": 4,
 "nbformat_minor": 2
}
